{
 "cells": [
  {
   "attachments": {},
   "cell_type": "markdown",
   "metadata": {},
   "source": [
    "# Railway Graph Visualization\n",
    "\n",
    "This Jupyter notebook demonstrates how to use the `openrailwaymap_exporter` Python module to fetch railway data for a specific area and visualize it as an SVG graph.\n"
   ]
  },
  {
   "cell_type": "code",
   "execution_count": 1,
   "metadata": {},
   "outputs": [],
   "source": [
    "import json\n",
    "from openrailwaymap_exporter import PyOverpassImporter, fetch_by_area_name, export_svg"
   ]
  },
  {
   "attachments": {},
   "cell_type": "markdown",
   "metadata": {},
   "source": [
    "\n",
    "## Fetch Railway Data\n",
    "\n",
    "First, we use the `fetch_by_area_name` function to fetch railway data for a specified area. In this example, we are fetching data for the area \"Bad Vilbel\"."
   ]
  },
  {
   "cell_type": "code",
   "execution_count": 2,
   "metadata": {},
   "outputs": [],
   "source": [
    "area_name = \"Bad Vilbel\"\n",
    "json_object = await fetch_by_area_name(area_name)\n",
    "json_data = json.dumps(json_object)"
   ]
  },
  {
   "attachments": {},
   "cell_type": "markdown",
   "metadata": {},
   "source": [
    "## Import Railway Graph\n",
    "\n",
    "Next, we import the railway graph data using the `PyOverpassImporter` class from the `openrailwaymap_exporter` module.\n"
   ]
  },
  {
   "cell_type": "code",
   "execution_count": 3,
   "metadata": {},
   "outputs": [],
   "source": [
    "importer = PyOverpassImporter()\n",
    "railway_graph = importer.import_graph(json_data)"
   ]
  },
  {
   "attachments": {},
   "cell_type": "markdown",
   "metadata": {},
   "source": [
    "## Visualize Railway Graph\n",
    "\n",
    "Finally, we generate and display the SVG graph of the railway network using the `export_svg` function from the `openrailwaymap_exporter` module.\n"
   ]
  },
  {
   "cell_type": "code",
   "execution_count": 4,
   "metadata": {},
   "outputs": [
    {
     "data": {
      "image/svg+xml": [
       "<svg xmlns=\"http://www.w3.org/2000/svg\" viewBox=\"0 0 2500 2500\"><path d=\"M 413.9 2044.8 L 421.6 2022.5 L 431.6 1988.6 L 437.7 1967.8 L 447.1 1935.8 L 469.6 1863.1 L 481.2 1825.4 L 503.4 1753.5 L 510.5 1730.7\" stroke=\"black\" stroke-width=\"1\" fill=\"none\"/><path d=\"M 343.6 2279.5 L 367.1 2199.7 L 386.1 2134.9 L 402.1 2080.1\" stroke=\"black\" stroke-width=\"1\" fill=\"none\"/><path d=\"M 402.1 2080.1 L 408.4 2059.1\" stroke=\"black\" stroke-width=\"1\" fill=\"none\"/><path d=\"M 702.4 1309.8 L 689.8 1316.3 L 682.4 1320.7 L 677.0 1324.4 L 671.4 1328.4 L 663.3 1335.2 L 655.9 1342.1 L 648.7 1349.8 L 643.3 1356.3 L 633.9 1369.9\" stroke=\"black\" stroke-width=\"1\" fill=\"none\"/><path d=\"M 716.5 1304.0 L 702.4 1309.8\" stroke=\"black\" stroke-width=\"1\" fill=\"none\"/><path d=\"M 2500.0 1581.0 L 2483.7 1582.6 L 2464.0 1585.8 L 2454.2 1588.0 L 2442.6 1591.2 L 2426.9 1596.2 L 2406.0 1604.1 L 2378.7 1615.5 L 2336.4 1633.3 L 2267.1 1662.2 L 2238.6 1674.2 L 2218.3 1682.3\" stroke=\"black\" stroke-width=\"1\" fill=\"none\"/><path d=\"M 1071.5 5.8 L 1071.1 0.1\" stroke=\"black\" stroke-width=\"1\" fill=\"none\"/><path d=\"M 1013.6 631.6 L 1017.6 624.5\" stroke=\"black\" stroke-width=\"1\" fill=\"none\"/><path d=\"M 1017.6 624.5 L 1034.4 596.1 L 1049.0 568.0 L 1062.4 536.5 L 1072.2 509.5 L 1079.5 484.7 L 1085.0 462.9 L 1090.8 432.5 L 1094.9 400.2 L 1097.2 372.8 L 1098.1 335.9 L 1097.2 299.1 L 1084.6 147.4 L 1071.5 5.8\" stroke=\"black\" stroke-width=\"1\" fill=\"none\"/><path d=\"M 335.3 2306.3 L 343.6 2279.5\" stroke=\"black\" stroke-width=\"1\" fill=\"none\"/><path d=\"M 1548.1 1617.0 L 1537.1 1611.5 L 1526.6 1605.2 L 1517.1 1598.6 L 1507.9 1591.0 L 1498.1 1581.6 L 1488.3 1570.8 L 1478.1 1558.7 L 1371.6 1432.1 L 1338.0 1392.2 L 1327.0 1379.5 L 1316.8 1369.4 L 1307.9 1361.8 L 1298.1 1354.8 L 1290.4 1350.0 L 1282.9 1345.9 L 1276.5 1342.8 L 1267.7 1339.0 L 1257.7 1335.4 L 1246.8 1332.3 L 1235.8 1330.0 L 1225.3 1328.4 L 1214.7 1327.4 L 1014.3 1313.4 L 901.6 1305.5 L 885.3 1304.1 L 803.6 1295.9 L 784.3 1294.6 L 771.5 1294.1 L 758.9 1294.9 L 746.5 1296.4 L 736.9 1298.2 L 726.2 1300.9 L 716.5 1304.0\" stroke=\"black\" stroke-width=\"1\" fill=\"none\"/><path d=\"M 1555.0 1619.9 L 1548.1 1617.0\" stroke=\"black\" stroke-width=\"1\" fill=\"none\"/><path d=\"M 548.1 1607.5 L 539.6 1627.1 L 534.1 1641.6 L 521.4 1678.8 L 495.6 1754.3 L 482.3 1794.6 L 461.5 1862.2 L 440.0 1931.6 L 429.5 1965.6 L 424.7 1982.6 L 421.8 1995.3 L 418.8 2011.4 L 413.1 2031.5 L 411.1 2042.6\" stroke=\"black\" stroke-width=\"1\" fill=\"none\"/><path d=\"M 1068.9 6.2 L 1082.3 147.4 L 1094.7 299.8 L 1095.6 336.2 L 1094.9 372.9 L 1093.1 400.5 L 1088.8 432.5 L 1082.7 462.4 L 1076.8 484.6 L 1069.8 509.4 L 1060.1 535.8 L 1046.5 567.0 L 1032.6 595.6 L 1015.4 623.6\" stroke=\"black\" stroke-width=\"1\" fill=\"none\"/><path d=\"M 545.6 1687.4 L 544.7 1707.8\" stroke=\"black\" stroke-width=\"1\" fill=\"none\"/><path d=\"M 541.3 1652.7 L 535.9 1668.0 L 531.8 1678.2\" stroke=\"black\" stroke-width=\"1\" fill=\"none\"/><path d=\"M 542.6 1689.3 L 539.5 1708.2 L 536.4 1719.6 L 524.5 1757.9\" stroke=\"black\" stroke-width=\"1\" fill=\"none\"/><path d=\"M 578.2 1525.0 L 586.9 1489.9\" stroke=\"black\" stroke-width=\"1\" fill=\"none\"/><path d=\"M 547.0 1665.3 L 545.6 1687.4\" stroke=\"black\" stroke-width=\"1\" fill=\"none\"/><path d=\"M 1068.3 0.0 L 1068.9 6.2\" stroke=\"black\" stroke-width=\"1\" fill=\"none\"/><path d=\"M 556.4 1604.3 L 541.3 1652.7\" stroke=\"black\" stroke-width=\"1\" fill=\"none\"/><path d=\"M 1015.4 623.6 L 1011.1 630.8\" stroke=\"black\" stroke-width=\"1\" fill=\"none\"/><path d=\"M 542.2 1708.0 L 539.1 1725.7 L 529.2 1759.0\" stroke=\"black\" stroke-width=\"1\" fill=\"none\"/><path d=\"M 910.4 807.2 L 885.4 850.5 L 855.0 903.7 L 806.1 989.2 L 783.3 1027.5 L 768.9 1050.8 L 754.2 1073.3 L 725.8 1116.2 L 711.2 1139.7 L 702.0 1155.7 L 687.7 1183.2 L 681.0 1197.8 L 674.2 1214.0 L 663.9 1241.7 L 653.9 1272.4 L 641.1 1314.0 L 611.6 1408.3 L 586.9 1489.9 L 575.6 1525.1 L 565.7 1555.5 L 548.1 1607.5\" stroke=\"black\" stroke-width=\"1\" fill=\"none\"/><path d=\"M 568.2 1573.1 L 562.5 1586.5 L 557.5 1600.4\" stroke=\"black\" stroke-width=\"1\" fill=\"none\"/><path d=\"M 574.3 1538.0 L 571.2 1553.3 L 566.9 1569.4\" stroke=\"black\" stroke-width=\"1\" fill=\"none\"/><path d=\"M 399.5 2079.5 L 378.5 2152.1\" stroke=\"black\" stroke-width=\"1\" fill=\"none\"/><path d=\"M 341.4 2278.9 L 333.0 2305.7\" stroke=\"black\" stroke-width=\"1\" fill=\"none\"/><path d=\"M 333.0 2305.7 L 330.9 2311.1 L 328.9 2315.7 L 324.0 2326.6 L 319.5 2335.8 L 313.6 2344.8 L 306.1 2355.2 L 299.3 2364.5 L 291.8 2372.4 L 283.3 2381.2 L 273.7 2390.7 L 261.2 2402.0 L 247.6 2411.7 L 236.1 2419.6 L 219.7 2430.8 L 207.5 2438.4\" stroke=\"black\" stroke-width=\"1\" fill=\"none\"/><path d=\"M 421.6 2028.7 L 417.3 2037.7 L 413.9 2044.8\" stroke=\"black\" stroke-width=\"1\" fill=\"none\"/><path d=\"M 405.8 2058.5 L 399.5 2079.5\" stroke=\"black\" stroke-width=\"1\" fill=\"none\"/><path d=\"M 510.5 1730.7 L 531.8 1678.2\" stroke=\"black\" stroke-width=\"1\" fill=\"none\"/><path d=\"M 549.2 1653.2 L 547.0 1665.3\" stroke=\"black\" stroke-width=\"1\" fill=\"none\"/><path d=\"M 435.5 1994.8 L 428.7 2011.3 L 425.6 2019.1\" stroke=\"black\" stroke-width=\"1\" fill=\"none\"/><path d=\"M 556.4 1604.3 L 552.9 1617.8 L 549.7 1633.7 L 544.0 1652.0 L 530.6 1695.5 L 512.2 1755.2 L 476.1 1872.0 L 447.9 1963.4 L 445.0 1971.5 L 439.9 1983.1 L 435.5 1994.8\" stroke=\"black\" stroke-width=\"1\" fill=\"none\"/><path d=\"M 411.1 2042.6 L 405.8 2058.5\" stroke=\"black\" stroke-width=\"1\" fill=\"none\"/><path d=\"M 545.6 1687.4 L 542.2 1708.0\" stroke=\"black\" stroke-width=\"1\" fill=\"none\"/><path d=\"M 542.2 1708.0 L 527.0 1758.4\" stroke=\"black\" stroke-width=\"1\" fill=\"none\"/><path d=\"M 566.9 1569.4 L 557.5 1600.4\" stroke=\"black\" stroke-width=\"1\" fill=\"none\"/><path d=\"M 542.6 1689.3 L 522.3 1757.4\" stroke=\"black\" stroke-width=\"1\" fill=\"none\"/><path d=\"M 557.5 1600.4 L 556.4 1604.3\" stroke=\"black\" stroke-width=\"1\" fill=\"none\"/><path d=\"M 425.6 2019.1 L 421.6 2028.7\" stroke=\"black\" stroke-width=\"1\" fill=\"none\"/><path d=\"M 486.3 1830.6 L 473.7 1871.4 L 435.5 1994.8\" stroke=\"black\" stroke-width=\"1\" fill=\"none\"/><path d=\"M 541.3 1652.7 L 486.3 1830.6\" stroke=\"black\" stroke-width=\"1\" fill=\"none\"/><path d=\"M 547.0 1665.3 L 545.1 1674.9 L 542.6 1689.3\" stroke=\"black\" stroke-width=\"1\" fill=\"none\"/><path d=\"M 531.8 1678.2 L 524.7 1697.8 L 507.1 1754.3 L 493.6 1798.7\" stroke=\"black\" stroke-width=\"1\" fill=\"none\"/><path d=\"M 544.7 1707.8 L 542.9 1719.3 L 540.1 1732.6 L 531.7 1759.7\" stroke=\"black\" stroke-width=\"1\" fill=\"none\"/><path d=\"M 568.2 1573.1 L 561.0 1597.1 L 559.3 1602.9 L 556.4 1615.2 L 552.6 1634.5 L 549.2 1653.2\" stroke=\"black\" stroke-width=\"1\" fill=\"none\"/><path d=\"M 548.1 1607.5 L 528.4 1666.1 L 521.3 1688.0 L 513.9 1710.8 L 501.1 1752.7 L 467.2 1862.7 L 459.5 1887.4 L 445.3 1933.5 L 435.3 1967.2 L 415.5 2032.1 L 411.1 2042.6\" stroke=\"black\" stroke-width=\"1\" fill=\"none\"/><path d=\"M 574.3 1538.0 L 578.2 1525.0 L 587.4 1495.8 L 613.6 1410.8 L 626.2 1369.9 L 643.3 1314.6 L 656.3 1272.6 L 666.2 1241.8 L 676.4 1214.2 L 683.0 1198.6 L 689.8 1183.9 L 704.1 1156.0 L 713.4 1140.3 L 727.9 1117.3 L 756.2 1074.3 L 771.0 1051.7 L 785.2 1028.6 L 808.0 989.9 L 857.0 904.4 L 887.7 851.3 L 912.3 808.1\" stroke=\"black\" stroke-width=\"1\" fill=\"none\"/><path d=\"M 510.5 1730.7 L 519.9 1699.8 L 530.7 1666.6 L 539.0 1642.5 L 568.2 1555.8 L 574.3 1538.0\" stroke=\"black\" stroke-width=\"1\" fill=\"none\"/><path d=\"M 633.9 1369.9 L 631.2 1374.4 L 628.2 1380.0 L 623.9 1389.0 L 620.7 1397.3 L 616.1 1410.0 L 613.4 1419.1\" stroke=\"black\" stroke-width=\"1\" fill=\"none\"/><path d=\"M 207.5 2438.4 L 194.3 2446.7 L 181.5 2455.0 L 173.3 2459.4 L 162.9 2465.0 L 149.5 2471.4 L 136.9 2477.1 L 124.7 2482.0 L 110.6 2487.0 L 96.8 2490.9 L 82.3 2494.4 L 69.9 2496.4 L 58.3 2497.7 L 40.7 2498.7 L 21.4 2498.4 L 0.3 2497.1\" stroke=\"black\" stroke-width=\"1\" fill=\"none\"/><path d=\"M 1972.2 1716.2 L 1956.3 1714.6 L 1940.7 1712.8 L 1923.4 1710.2 L 1906.3 1707.0 L 1888.3 1702.8 L 1870.4 1698.6 L 1824.1 1687.3 L 1611.1 1635.3 L 1578.7 1627.4 L 1564.2 1623.3 L 1555.0 1619.9\" stroke=\"black\" stroke-width=\"1\" fill=\"none\"/><path d=\"M 0.0 2500.0 L 21.6 2501.2 L 35.0 2501.4 L 53.3 2500.8 L 70.1 2499.3 L 85.0 2496.8 L 98.3 2493.6 L 114.5 2488.8 L 127.2 2484.3 L 139.0 2479.6 L 152.0 2473.8 L 166.7 2466.5 L 177.3 2460.9 L 188.6 2454.2 L 201.7 2446.3 L 211.7 2440.1 L 223.9 2431.6 L 236.9 2422.5 L 252.1 2412.1 L 262.2 2404.5 L 276.9 2391.3 L 286.5 2381.2 L 296.3 2370.3 L 305.0 2359.9 L 316.9 2345.3 L 322.2 2337.1 L 328.5 2324.6 L 332.3 2315.0 L 335.3 2306.3\" stroke=\"black\" stroke-width=\"1\" fill=\"none\"/><path d=\"M 2059.4 1716.9 L 2048.8 1717.3 L 2028.4 1718.0\" stroke=\"black\" stroke-width=\"1\" fill=\"none\"/><path d=\"M 2130.9 1708.1 L 2116.0 1710.4 L 2099.3 1712.8 L 2080.5 1715.2 L 2059.4 1716.9\" stroke=\"black\" stroke-width=\"1\" fill=\"none\"/><path d=\"M 575.5 1542.1 L 566.9 1569.4\" stroke=\"black\" stroke-width=\"1\" fill=\"none\"/><path d=\"M 378.5 2152.1 L 364.5 2200.0 L 341.4 2278.9\" stroke=\"black\" stroke-width=\"1\" fill=\"none\"/><path d=\"M 1011.1 630.8 L 992.4 665.1 L 968.1 707.3\" stroke=\"black\" stroke-width=\"1\" fill=\"none\"/><path d=\"M 970.0 708.4 L 994.6 666.3 L 1009.9 638.4 L 1013.6 631.6\" stroke=\"black\" stroke-width=\"1\" fill=\"none\"/><path d=\"M 968.1 707.3 L 942.9 751.2 L 921.6 787.9 L 910.4 807.2\" stroke=\"black\" stroke-width=\"1\" fill=\"none\"/><path d=\"M 912.3 808.1 L 923.7 788.1 L 944.6 751.9 L 970.0 708.4\" stroke=\"black\" stroke-width=\"1\" fill=\"none\"/><path d=\"M 2170.5 1698.4 L 2158.3 1701.9 L 2141.5 1705.9 L 2130.9 1708.1\" stroke=\"black\" stroke-width=\"1\" fill=\"none\"/><path d=\"M 2218.3 1682.3 L 2200.6 1689.4 L 2181.8 1695.1 L 2170.5 1698.4\" stroke=\"black\" stroke-width=\"1\" fill=\"none\"/><path d=\"M 613.4 1419.1 L 612.7 1421.7 L 597.5 1472.9 L 590.5 1495.2 L 575.5 1542.1\" stroke=\"black\" stroke-width=\"1\" fill=\"none\"/><path d=\"M 2028.4 1718.0 L 2013.3 1718.3 L 1999.4 1717.9 L 1984.6 1717.0 L 1982.4 1716.9 L 1977.8 1716.6 L 1972.2 1716.2\" stroke=\"black\" stroke-width=\"1\" fill=\"none\"/><path d=\"M 408.4 2059.1 L 411.5 2050.4 L 413.9 2044.8\" stroke=\"black\" stroke-width=\"1\" fill=\"none\"/><circle cx=\"578.205428624222\" cy=\"1525.0393377575415\" r=\"2\" fill=\"red\"/><circle cx=\"574.3103263661145\" cy=\"1538.0379010742204\" r=\"2\" fill=\"red\"/><circle cx=\"556.3672507251155\" cy=\"1604.2621604979508\" r=\"2\" fill=\"red\"/><circle cx=\"545.6014053404608\" cy=\"1687.3902533578948\" r=\"2\" fill=\"red\"/><circle cx=\"568.1999816883506\" cy=\"1573.0884130352347\" r=\"2\" fill=\"red\"/><circle cx=\"586.8569007711404\" cy=\"1489.897607808084\" r=\"2\" fill=\"red\"/><circle cx=\"557.4768117269275\" cy=\"1600.4196027456228\" r=\"2\" fill=\"red\"/><circle cx=\"542.614125720256\" cy=\"1689.3172333585899\" r=\"2\" fill=\"red\"/><circle cx=\"544.7440172936563\" cy=\"1707.817381587696\" r=\"2\" fill=\"red\"/><circle cx=\"546.951500545446\" cy=\"1665.2755923467582\" r=\"2\" fill=\"red\"/><circle cx=\"549.6672092911496\" cy=\"1633.7426740554083\" r=\"2\" fill=\"red\"/><circle cx=\"542.1563348174403\" cy=\"1708.0112198124286\" r=\"2\" fill=\"red\"/><circle cx=\"531.821123248172\" cy=\"1678.2171444209641\" r=\"2\" fill=\"red\"/><circle cx=\"566.8576456512319\" cy=\"1569.416889010326\" r=\"2\" fill=\"red\"/><circle cx=\"541.2523917635054\" cy=\"1652.6761077286062\" r=\"2\" fill=\"red\"/><circle cx=\"548.0959778025541\" cy=\"1607.4661923332028\" r=\"2\" fill=\"red\"/><circle cx=\"411.09623075147266\" cy=\"2042.638708353304\" r=\"2\" fill=\"red\"/><circle cx=\"413.9283270147605\" cy=\"2044.7709288269832\" r=\"2\" fill=\"red\"/><circle cx=\"435.5492482142246\" cy=\"1994.7549656791068\" r=\"2\" fill=\"red\"/><circle cx=\"510.5299666821738\" cy=\"1730.701694374245\" r=\"2\" fill=\"red\"/><circle cx=\"1071.1220842987248\" cy=\"0.07981573978622691\" r=\"2\" fill=\"red\"/><circle cx=\"405.7773211938891\" cy=\"2058.459328179288\" r=\"2\" fill=\"red\"/><circle cx=\"1071.5488385301433\" cy=\"5.7809400016794825\" r=\"2\" fill=\"red\"/><circle cx=\"522.3006243026834\" cy=\"1757.3715536702439\" r=\"2\" fill=\"red\"/><circle cx=\"1068.2744696997038\" cy=\"0\" r=\"2\" fill=\"red\"/><circle cx=\"341.36846891448266\" cy=\"2278.8818955098695\" r=\"2\" fill=\"red\"/><circle cx=\"399.49239523957635\" cy=\"2079.450867711112\" r=\"2\" fill=\"red\"/><circle cx=\"2028.362862139799\" cy=\"1717.9596816491\" r=\"2\" fill=\"red\"/><circle cx=\"526.9716433451694\" cy=\"1758.426261658832\" r=\"2\" fill=\"red\"/><circle cx=\"633.8774579103849\" cy=\"1369.917447720844\" r=\"2\" fill=\"red\"/><circle cx=\"1015.3957408375651\" cy=\"623.5946728696758\" r=\"2\" fill=\"red\"/><circle cx=\"0\" cy=\"2500\" r=\"2\" fill=\"red\"/><circle cx=\"408.4193178450329\" cy=\"2059.063647351204\" r=\"2\" fill=\"red\"/><circle cx=\"378.5271237230764\" cy=\"2152.1345009234915\" r=\"2\" fill=\"red\"/><circle cx=\"575.5091177981504\" cy=\"1542.1028026725176\" r=\"2\" fill=\"red\"/><circle cx=\"1011.0932822676709\" cy=\"630.806595060752\" r=\"2\" fill=\"red\"/><circle cx=\"613.4436893911915\" cy=\"1419.0896444778498\" r=\"2\" fill=\"red\"/><circle cx=\"0.28708921023448347\" cy=\"2497.1209322478167\" r=\"2\" fill=\"red\"/><circle cx=\"716.4931975375632\" cy=\"1304.0409568766854\" r=\"2\" fill=\"red\"/><circle cx=\"912.3035572680997\" cy=\"808.0830539784795\" r=\"2\" fill=\"red\"/><circle cx=\"968.1230107433821\" cy=\"707.2928781555663\" r=\"2\" fill=\"red\"/><circle cx=\"2130.9429406315207\" cy=\"1708.0511276823217\" r=\"2\" fill=\"red\"/><circle cx=\"2500\" cy=\"1580.961665640295\" r=\"2\" fill=\"red\"/><circle cx=\"333.0079655616975\" cy=\"2305.6771795398763\" r=\"2\" fill=\"red\"/><circle cx=\"207.5073052565554\" cy=\"2438.42215684917\" r=\"2\" fill=\"red\"/><circle cx=\"702.4297058189386\" cy=\"1309.7648856354867\" r=\"2\" fill=\"red\"/><circle cx=\"1017.5799465858931\" cy=\"624.5239561242558\" r=\"2\" fill=\"red\"/><circle cx=\"2218.2956522278782\" cy=\"1682.2877471435895\" r=\"2\" fill=\"red\"/><circle cx=\"2170.49141913632\" cy=\"1698.387722058826\" r=\"2\" fill=\"red\"/><circle cx=\"524.4654321313109\" cy=\"1757.918861599687\" r=\"2\" fill=\"red\"/><circle cx=\"910.371524474779\" cy=\"807.2164830907009\" r=\"2\" fill=\"red\"/><circle cx=\"2059.3995335188633\" cy=\"1716.8878702879322\" r=\"2\" fill=\"red\"/><circle cx=\"402.1343918907201\" cy=\"2080.123600373753\" r=\"2\" fill=\"red\"/><circle cx=\"486.3446405100245\" cy=\"1830.6081959363946\" r=\"2\" fill=\"red\"/><circle cx=\"421.5633481740585\" cy=\"2028.7393674032817\" r=\"2\" fill=\"red\"/><circle cx=\"969.9813314421431\" cy=\"708.3931951379707\" r=\"2\" fill=\"red\"/><circle cx=\"549.1822613008355\" cy=\"1653.2291167819726\" r=\"2\" fill=\"red\"/><circle cx=\"335.3434750829749\" cy=\"2306.310004332624\" r=\"2\" fill=\"red\"/><circle cx=\"1068.8758052076712\" cy=\"6.168616451144771\" r=\"2\" fill=\"red\"/><circle cx=\"1548.1052888040078\" cy=\"1617.009874347019\" r=\"2\" fill=\"red\"/><circle cx=\"1013.591734313663\" cy=\"631.553442338851\" r=\"2\" fill=\"red\"/><circle cx=\"425.60199503724874\" cy=\"2019.0645595311291\" r=\"2\" fill=\"red\"/><circle cx=\"1972.1826073597224\" cy=\"1716.1638275067414\" r=\"2\" fill=\"red\"/><circle cx=\"531.7202540661827\" cy=\"1759.6691067478241\" r=\"2\" fill=\"red\"/><circle cx=\"529.2062836845265\" cy=\"1759.0476842033281\" r=\"2\" fill=\"red\"/><circle cx=\"1554.9915502662188\" cy=\"1619.9459533420804\" r=\"2\" fill=\"red\"/><circle cx=\"493.5955828609287\" cy=\"1798.716106816411\" r=\"2\" fill=\"red\"/><circle cx=\"343.61862758943505\" cy=\"2279.452007935816\" r=\"2\" fill=\"red\"/></svg>"
      ],
      "text/plain": [
       "<IPython.core.display.SVG object>"
      ]
     },
     "metadata": {},
     "output_type": "display_data"
    }
   ],
   "source": [
    "from IPython.display import SVG\n",
    "\n",
    "svg_string = export_svg(railway_graph)\n",
    "display(SVG(svg_string))\n"
   ]
  },
  {
   "cell_type": "code",
   "execution_count": null,
   "metadata": {},
   "outputs": [],
   "source": []
  }
 ],
 "metadata": {
  "kernelspec": {
   "display_name": "venv",
   "language": "python",
   "name": "python3"
  },
  "language_info": {
   "codemirror_mode": {
    "name": "ipython",
    "version": 3
   },
   "file_extension": ".py",
   "mimetype": "text/x-python",
   "name": "python",
   "nbconvert_exporter": "python",
   "pygments_lexer": "ipython3",
   "version": "3.10.6"
  },
  "orig_nbformat": 4
 },
 "nbformat": 4,
 "nbformat_minor": 2
}
